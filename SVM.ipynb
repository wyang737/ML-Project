{
 "cells": [
  {
   "cell_type": "code",
   "execution_count": 9,
   "id": "58d8fd8d",
   "metadata": {},
   "outputs": [],
   "source": [
    "import numpy as np\n",
    "import pandas as pd\n",
    "import matplotlib.pyplot as plt\n",
    "from sklearn import preprocessing\n",
    "from sklearn.model_selection import train_test_split\n",
    "from sklearn.neural_network import MLPClassifier\n",
    "import warnings\n",
    "from sklearn import svm\n",
    "warnings.filterwarnings(action='once') # reducing the amount of warning output\n",
    "%matplotlib inline "
   ]
  },
  {
   "cell_type": "code",
   "execution_count": 10,
   "id": "8f93bc8f",
   "metadata": {},
   "outputs": [
    {
     "data": {
      "text/plain": [
       "Index(['Age', 'Sex', 'ChestPainType', 'RestingBP', 'Cholesterol', 'FastingBS',\n",
       "       'RestingECG', 'MaxHR', 'ExerciseAngina', 'Oldpeak', 'ST_Slope',\n",
       "       'HeartDisease'],\n",
       "      dtype='object')"
      ]
     },
     "execution_count": 10,
     "metadata": {},
     "output_type": "execute_result"
    }
   ],
   "source": [
    "# import the data:\n",
    "df = pd.read_csv('heart.csv')\n",
    "df.columns"
   ]
  },
  {
   "cell_type": "code",
   "execution_count": 11,
   "id": "ab917416",
   "metadata": {},
   "outputs": [
    {
     "name": "stdout",
     "output_type": "stream",
     "text": [
      "     ChestPainType_ASY  ChestPainType_ATA  ChestPainType_NAP  ChestPainType_TA\n",
      "0                    0                  1                  0                 0\n",
      "1                    0                  0                  1                 0\n",
      "2                    0                  1                  0                 0\n",
      "3                    1                  0                  0                 0\n",
      "4                    0                  0                  1                 0\n",
      "..                 ...                ...                ...               ...\n",
      "913                  0                  0                  0                 1\n",
      "914                  1                  0                  0                 0\n",
      "915                  1                  0                  0                 0\n",
      "916                  0                  1                  0                 0\n",
      "917                  0                  0                  1                 0\n",
      "\n",
      "[918 rows x 4 columns]\n"
     ]
    }
   ],
   "source": [
    "# doing one hot encoding for categorical features\n",
    "ohe_sex = pd.get_dummies(df.Sex, prefix='Sex')\n",
    "ohe_chestpain = pd.get_dummies(df.ChestPainType, prefix='ChestPainType')\n",
    "ohe_restingecg = pd.get_dummies(df.RestingECG, prefix='RestingECG')\n",
    "ohe_exerciseangina = pd.get_dummies(df.ExerciseAngina, prefix='ExerciseAngina')\n",
    "ohe_stslope = pd.get_dummies(df.ST_Slope, prefix='ST_Slope')\n",
    "print (ohe_chestpain)"
   ]
  },
  {
   "cell_type": "code",
   "execution_count": 12,
   "id": "42b0c631",
   "metadata": {},
   "outputs": [
    {
     "name": "stderr",
     "output_type": "stream",
     "text": [
      "C:\\Windows\\Temp/ipykernel_21432/3889428227.py:7: SettingWithCopyWarning: \n",
      "A value is trying to be set on a copy of a slice from a DataFrame.\n",
      "Try using .loc[row_indexer,col_indexer] = value instead\n",
      "\n",
      "See the caveats in the documentation: https://pandas.pydata.org/pandas-docs/stable/user_guide/indexing.html#returning-a-view-versus-a-copy\n",
      "  X['Male'] = ohe_sex['Sex_M']\n"
     ]
    }
   ],
   "source": [
    "warnings.filterwarnings(action='once') # reducing the amount of warning output\n",
    "\n",
    "# creating our variables to store the data\n",
    "y = df['HeartDisease']\n",
    "X = df[['Age', 'RestingBP','FastingBS','MaxHR','Oldpeak']]\n",
    "# adding the encoded features\n",
    "X['Male'] = ohe_sex['Sex_M']\n",
    "X['Female'] = ohe_sex['Sex_F']\n",
    "\n",
    "X['CPT_ASY'] = ohe_chestpain['ChestPainType_ASY']\n",
    "X['CPT_ATA'] = ohe_chestpain['ChestPainType_ATA']\n",
    "X['CPT_NAP'] = ohe_chestpain['ChestPainType_NAP']\n",
    "X['CPT_TA'] = ohe_chestpain['ChestPainType_TA']\n",
    "\n",
    "X['ECG_LVH'] = ohe_restingecg['RestingECG_LVH']\n",
    "X['ECG_Normal'] = ohe_restingecg['RestingECG_Normal']\n",
    "X['ECG_ST'] = ohe_restingecg['RestingECG_ST']\n",
    "\n",
    "X['EA_N'] = ohe_exerciseangina['ExerciseAngina_N']\n",
    "X['EA_Y'] = ohe_exerciseangina['ExerciseAngina_Y']\n",
    "\n",
    "X['ST_Down'] = ohe_stslope['ST_Slope_Down']\n",
    "X['ST_Flat'] = ohe_stslope['ST_Slope_Flat']\n",
    "X['ST_Up'] = ohe_stslope['ST_Slope_Up']\n",
    "\n",
    "# applying z standardization\n",
    "scaler = preprocessing.StandardScaler().fit(X)\n",
    "\n",
    "X = scaler.transform(X)\n"
   ]
  },
  {
   "cell_type": "code",
   "execution_count": 13,
   "id": "53ac01d2",
   "metadata": {},
   "outputs": [
    {
     "name": "stdout",
     "output_type": "stream",
     "text": [
      "0      0\n",
      "1      1\n",
      "2      0\n",
      "3      1\n",
      "4      0\n",
      "      ..\n",
      "913    1\n",
      "914    1\n",
      "915    1\n",
      "916    1\n",
      "917    0\n",
      "Name: HeartDisease, Length: 918, dtype: int64\n",
      "[[-1.4331398   0.41090889 -0.55134134 ... -0.27144836 -1.00218103\n",
      "   1.15067399]\n",
      " [-0.47848359  1.49175234 -0.55134134 ... -0.27144836  0.99782372\n",
      "  -0.86905588]\n",
      " [-1.75135854 -0.12951283 -0.55134134 ... -0.27144836 -1.00218103\n",
      "   1.15067399]\n",
      " ...\n",
      " [ 0.37009972 -0.12951283 -0.55134134 ... -0.27144836  0.99782372\n",
      "  -0.86905588]\n",
      " [ 0.37009972 -0.12951283 -0.55134134 ... -0.27144836  0.99782372\n",
      "  -0.86905588]\n",
      " [-1.64528563  0.30282455 -0.55134134 ... -0.27144836 -1.00218103\n",
      "   1.15067399]]\n"
     ]
    }
   ],
   "source": [
    "print (y)\n",
    "print (X)"
   ]
  },
  {
   "cell_type": "code",
   "execution_count": 27,
   "id": "48d9efae",
   "metadata": {},
   "outputs": [],
   "source": [
    "# Split the testing and training data\n",
    "X_train, X_test, Y_train, Y_test = train_test_split(X, y, test_size=0.33)"
   ]
  },
  {
   "cell_type": "code",
   "execution_count": 32,
   "id": "b62a34cd",
   "metadata": {},
   "outputs": [],
   "source": [
    "cVals = [0.0001, 0.001, 0.01, 0.1, 1, 10, 100, 1000]\n",
    "def svm_linear(c, X_train, Y_train, X_test, Y_test):\n",
    "    svc_linear = svm.SVC(probability = False, kernel = 'linear', C = c)\n",
    "    svc_linear.fit(X_train, Y_train)\n",
    "    \n",
    "    Yhat_svc_linear_train = svc_linear.predict(X_train)\n",
    "    \n",
    "    acc_train = svc_linear.score(X_train, Y_train)\n",
    "    acc_test = svc_linear.score(X_test, Y_test)\n",
    "    \n",
    "    print('C = ', c)\n",
    "    print('Train Accuracy = {0:f}'.format(acc_train))\n",
    "    print('Test Accuracy = {0:f}'.format(acc_test))\n",
    "\n",
    "def svm_rbf(c, X_train, Y_train, X_test, Y_test):\n",
    "    print('C = ', c)\n",
    "\n",
    "    svc_rbf = svm.SVC(probability = False, kernel = 'rbf', C = c)\n",
    "    \n",
    "    svc_rbf.fit(X_train, Y_train)\n",
    "    \n",
    "    acc_train = svc_rbf.score(X_train,Y_train)\n",
    "    print('Train Accuracy = {0:f}'.format(acc_train))\n",
    "\n",
    "    acc_test = svc_rbf.score(X_test,Y_test)\n",
    "    print('Test Accuracy = {0:f}'.format(acc_test))\n",
    "    \n",
    "def svm_polynomial(c, X_train, Y_train, X_test, Y_test):\n",
    "    print('C = ', c)\n",
    "    \n",
    "    svc_polynomial = svm.SVC(probability = False, kernel = 'poly', C = c) \n",
    "    svc_polynomial.fit(X_train, Y_train)\n",
    "\n",
    "    Yhat_svc_poly_train = svc_polynomial.predict(X_train)\n",
    "    acc_train = svc_polynomial.score(X_train, Y_train)\n",
    "    \n",
    "    print('Train Accuracy = {0:f}'.format(acc_train))\n",
    "    \n",
    "    Yhat_svc_poly_test = svc_polynomial.predict(X_test)\n",
    "    acc_test = svc_polynomial.score(X_test, Y_test)\n",
    "\n",
    "    print('Test Accuracy = {0:f}'.format(acc_test))"
   ]
  },
  {
   "cell_type": "code",
   "execution_count": 33,
   "id": "50941ffb",
   "metadata": {},
   "outputs": [
    {
     "name": "stdout",
     "output_type": "stream",
     "text": [
      "SVM_linear results: \n",
      "C =  0.0001\n",
      "Train Accuracy = 0.554472\n",
      "Test Accuracy = 0.551155\n",
      "C =  0.001\n",
      "Train Accuracy = 0.871545\n",
      "Test Accuracy = 0.854785\n",
      "C =  0.01\n",
      "Train Accuracy = 0.869919\n",
      "Test Accuracy = 0.851485\n",
      "C =  0.1\n",
      "Train Accuracy = 0.869919\n",
      "Test Accuracy = 0.848185\n",
      "C =  1\n",
      "Train Accuracy = 0.873171\n",
      "Test Accuracy = 0.844884\n",
      "C =  10\n",
      "Train Accuracy = 0.873171\n",
      "Test Accuracy = 0.844884\n",
      "C =  100\n",
      "Train Accuracy = 0.873171\n",
      "Test Accuracy = 0.844884\n",
      "C =  1000\n",
      "Train Accuracy = 0.873171\n",
      "Test Accuracy = 0.844884\n"
     ]
    }
   ],
   "source": [
    "\n",
    "print (\"SVM_linear results: \")\n",
    "for c in cVals:\n",
    "    svm_linear(c, X_train, Y_train, X_test, Y_test)\n",
    "    \n",
    "# highest test accuracy: \n",
    "# C =  0.001\n",
    "# Train Accuracy = 0.871545\n",
    "# Test Accuracy = 0.854785"
   ]
  },
  {
   "cell_type": "code",
   "execution_count": 34,
   "id": "f52ce31f",
   "metadata": {},
   "outputs": [
    {
     "name": "stdout",
     "output_type": "stream",
     "text": [
      "SVM_rbf results:\n",
      "C =  0.0001\n",
      "Train Accuracy = 0.554472\n",
      "Test Accuracy = 0.551155\n",
      "C =  0.001\n",
      "Train Accuracy = 0.554472\n",
      "Test Accuracy = 0.551155\n",
      "C =  0.01\n",
      "Train Accuracy = 0.554472\n",
      "Test Accuracy = 0.551155\n",
      "C =  0.1\n",
      "Train Accuracy = 0.868293\n",
      "Test Accuracy = 0.851485\n",
      "C =  1\n",
      "Train Accuracy = 0.912195\n",
      "Test Accuracy = 0.848185\n",
      "C =  10\n",
      "Train Accuracy = 0.962602\n",
      "Test Accuracy = 0.818482\n",
      "C =  100\n",
      "Train Accuracy = 0.988618\n",
      "Test Accuracy = 0.801980\n",
      "C =  1000\n",
      "Train Accuracy = 1.000000\n",
      "Test Accuracy = 0.782178\n"
     ]
    }
   ],
   "source": [
    "print (\"SVM_rbf results:\")\n",
    "for c in cVals:\n",
    "    svm_rbf(c, X_train, Y_train, X_test, Y_test)\n",
    "\n",
    "# highest test accuracy:\n",
    "# C =  0.1\n",
    "# Train Accuracy = 0.868293\n",
    "# Test Accuracy = 0.851485"
   ]
  },
  {
   "cell_type": "code",
   "execution_count": 35,
   "id": "6b201060",
   "metadata": {},
   "outputs": [
    {
     "name": "stdout",
     "output_type": "stream",
     "text": [
      "SVM_polynomial results:\n",
      "C =  0.0001\n",
      "Train Accuracy = 0.554472\n",
      "Test Accuracy = 0.551155\n",
      "C =  0.001\n",
      "Train Accuracy = 0.554472\n",
      "Test Accuracy = 0.551155\n",
      "C =  0.01\n",
      "Train Accuracy = 0.559350\n",
      "Test Accuracy = 0.554455\n",
      "C =  0.1\n",
      "Train Accuracy = 0.869919\n",
      "Test Accuracy = 0.828383\n",
      "C =  1\n",
      "Train Accuracy = 0.920325\n",
      "Test Accuracy = 0.848185\n",
      "C =  10\n",
      "Train Accuracy = 0.959350\n",
      "Test Accuracy = 0.821782\n",
      "C =  100\n",
      "Train Accuracy = 0.986992\n",
      "Test Accuracy = 0.782178\n",
      "C =  1000\n",
      "Train Accuracy = 1.000000\n",
      "Test Accuracy = 0.775578\n"
     ]
    }
   ],
   "source": [
    "print (\"SVM_polynomial results:\")\n",
    "for c in cVals:\n",
    "    svm_polynomial(c, X_train, Y_train, X_test, Y_test)\n",
    "\n",
    "# highest test accuracy:\n",
    "# C =  1\n",
    "# Train Accuracy = 0.920325\n",
    "# Test Accuracy = 0.848185"
   ]
  },
  {
   "cell_type": "code",
   "execution_count": null,
   "id": "64ecc017",
   "metadata": {},
   "outputs": [],
   "source": []
  },
  {
   "cell_type": "code",
   "execution_count": null,
   "id": "5c31d467",
   "metadata": {},
   "outputs": [],
   "source": []
  }
 ],
 "metadata": {
  "kernelspec": {
   "display_name": "Python 3 (ipykernel)",
   "language": "python",
   "name": "python3"
  },
  "language_info": {
   "codemirror_mode": {
    "name": "ipython",
    "version": 3
   },
   "file_extension": ".py",
   "mimetype": "text/x-python",
   "name": "python",
   "nbconvert_exporter": "python",
   "pygments_lexer": "ipython3",
   "version": "3.9.2"
  }
 },
 "nbformat": 4,
 "nbformat_minor": 5
}
