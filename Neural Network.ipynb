{
 "cells": [
  {
   "cell_type": "code",
   "execution_count": 29,
   "id": "48c512b6",
   "metadata": {},
   "outputs": [],
   "source": [
    "import numpy as np\n",
    "import pandas as pd\n",
    "import matplotlib.pyplot as plt\n",
    "from sklearn import preprocessing\n",
    "from sklearn.model_selection import train_test_split\n",
    "from sklearn.neural_network import MLPClassifier\n",
    "%matplotlib inline "
   ]
  },
  {
   "cell_type": "code",
   "execution_count": 30,
   "id": "5b8f4047",
   "metadata": {},
   "outputs": [
    {
     "data": {
      "text/plain": [
       "Index(['Age', 'Sex', 'ChestPainType', 'RestingBP', 'Cholesterol', 'FastingBS',\n",
       "       'RestingECG', 'MaxHR', 'ExerciseAngina', 'Oldpeak', 'ST_Slope',\n",
       "       'HeartDisease'],\n",
       "      dtype='object')"
      ]
     },
     "execution_count": 30,
     "metadata": {},
     "output_type": "execute_result"
    }
   ],
   "source": [
    "# import the data:\n",
    "df = pd.read_csv('train.csv')\n",
    "df.columns"
   ]
  },
  {
   "cell_type": "code",
   "execution_count": 44,
   "id": "3c4646f7",
   "metadata": {},
   "outputs": [
    {
     "name": "stdout",
     "output_type": "stream",
     "text": [
      "     ChestPainType_ASY  ChestPainType_ATA  ChestPainType_NAP  ChestPainType_TA\n",
      "0                    0                  1                  0                 0\n",
      "1                    0                  0                  1                 0\n",
      "2                    0                  1                  0                 0\n",
      "3                    1                  0                  0                 0\n",
      "4                    0                  0                  1                 0\n",
      "..                 ...                ...                ...               ...\n",
      "607                  1                  0                  0                 0\n",
      "608                  1                  0                  0                 0\n",
      "609                  1                  0                  0                 0\n",
      "610                  1                  0                  0                 0\n",
      "611                  0                  0                  0                 1\n",
      "\n",
      "[612 rows x 4 columns]\n"
     ]
    }
   ],
   "source": [
    "# doing one hot encoding for categorical features\n",
    "ohe_sex = pd.get_dummies(df.Sex, prefix='Sex')\n",
    "ohe_chestpain = pd.get_dummies(df.ChestPainType, prefix='ChestPainType')\n",
    "ohe_restingecg = pd.get_dummies(df.RestingECG, prefix='RestingECG')\n",
    "ohe_exerciseangina = pd.get_dummies(df.ExerciseAngina, prefix='ExerciseAngina')\n",
    "ohe_stslope = pd.get_dummies(df.ST_Slope, prefix='ST_Slope')\n",
    "print (ohe_chestpain)"
   ]
  },
  {
   "cell_type": "code",
   "execution_count": 45,
   "id": "2d95b43d",
   "metadata": {},
   "outputs": [
    {
     "name": "stderr",
     "output_type": "stream",
     "text": [
      "C:\\Windows\\Temp/ipykernel_1088/3552547447.py:5: SettingWithCopyWarning: \n",
      "A value is trying to be set on a copy of a slice from a DataFrame.\n",
      "Try using .loc[row_indexer,col_indexer] = value instead\n",
      "\n",
      "See the caveats in the documentation: https://pandas.pydata.org/pandas-docs/stable/user_guide/indexing.html#returning-a-view-versus-a-copy\n",
      "  X['Male'] = ohe_sex['Sex_M']\n",
      "C:\\Windows\\Temp/ipykernel_1088/3552547447.py:6: SettingWithCopyWarning: \n",
      "A value is trying to be set on a copy of a slice from a DataFrame.\n",
      "Try using .loc[row_indexer,col_indexer] = value instead\n",
      "\n",
      "See the caveats in the documentation: https://pandas.pydata.org/pandas-docs/stable/user_guide/indexing.html#returning-a-view-versus-a-copy\n",
      "  X['Female'] = ohe_sex['Sex_F']\n",
      "C:\\Windows\\Temp/ipykernel_1088/3552547447.py:8: SettingWithCopyWarning: \n",
      "A value is trying to be set on a copy of a slice from a DataFrame.\n",
      "Try using .loc[row_indexer,col_indexer] = value instead\n",
      "\n",
      "See the caveats in the documentation: https://pandas.pydata.org/pandas-docs/stable/user_guide/indexing.html#returning-a-view-versus-a-copy\n",
      "  X['CPT_ASY'] = ohe_chestpain['ChestPainType_ASY']\n",
      "C:\\Windows\\Temp/ipykernel_1088/3552547447.py:9: SettingWithCopyWarning: \n",
      "A value is trying to be set on a copy of a slice from a DataFrame.\n",
      "Try using .loc[row_indexer,col_indexer] = value instead\n",
      "\n",
      "See the caveats in the documentation: https://pandas.pydata.org/pandas-docs/stable/user_guide/indexing.html#returning-a-view-versus-a-copy\n",
      "  X['CPT_ATA'] = ohe_chestpain['ChestPainType_ATA']\n",
      "C:\\Windows\\Temp/ipykernel_1088/3552547447.py:10: SettingWithCopyWarning: \n",
      "A value is trying to be set on a copy of a slice from a DataFrame.\n",
      "Try using .loc[row_indexer,col_indexer] = value instead\n",
      "\n",
      "See the caveats in the documentation: https://pandas.pydata.org/pandas-docs/stable/user_guide/indexing.html#returning-a-view-versus-a-copy\n",
      "  X['CPT_NAP'] = ohe_chestpain['ChestPainType_NAP']\n",
      "C:\\Windows\\Temp/ipykernel_1088/3552547447.py:11: SettingWithCopyWarning: \n",
      "A value is trying to be set on a copy of a slice from a DataFrame.\n",
      "Try using .loc[row_indexer,col_indexer] = value instead\n",
      "\n",
      "See the caveats in the documentation: https://pandas.pydata.org/pandas-docs/stable/user_guide/indexing.html#returning-a-view-versus-a-copy\n",
      "  X['CPT_TA'] = ohe_chestpain['ChestPainType_TA']\n"
     ]
    }
   ],
   "source": [
    "# creating our variables to store the data\n",
    "y = df['HeartDisease']\n",
    "X = df[['Age', 'RestingBP','FastingBS','MaxHR','Oldpeak']]\n",
    "# adding the encoded features\n",
    "X['Male'] = ohe_sex['Sex_M']\n",
    "X['Female'] = ohe_sex['Sex_F']\n",
    "\n",
    "X['CPT_ASY'] = ohe_chestpain['ChestPainType_ASY']\n",
    "X['CPT_ATA'] = ohe_chestpain['ChestPainType_ATA']\n",
    "X['CPT_NAP'] = ohe_chestpain['ChestPainType_NAP']\n",
    "X['CPT_TA'] = ohe_chestpain['ChestPainType_TA']\n",
    "\n",
    "X['ECG_LVH'] = ohe_restingecg['RestingECG_LVH']\n",
    "X['ECG_Normal'] = ohe_restingecg['RestingECG_Normal']\n",
    "X['ECG_ST'] = ohe_restingecg['RestingECG_ST']\n",
    "\n",
    "X['EA_N'] = ohe_exerciseangina['ExerciseAngina_N']\n",
    "X['EA_Y'] = ohe_exerciseangina['ExerciseAngina_Y']\n",
    "\n",
    "X['ST_Down'] = ohe_stslope['ST_Slope_Down']\n",
    "X['ST_Flat'] = ohe_stslope['ST_Slope_Flat']\n",
    "X['ST_Up'] = ohe_stslope['ST_Slope_Up']\n",
    "\n"
   ]
  },
  {
   "cell_type": "code",
   "execution_count": 46,
   "id": "9d0b9581",
   "metadata": {},
   "outputs": [
    {
     "name": "stdout",
     "output_type": "stream",
     "text": [
      "     Age  RestingBP  FastingBS  MaxHR  Oldpeak  Male  Female  CPT_ASY  \\\n",
      "0     40        140          0    172      0.0     1       0        0   \n",
      "1     49        160          0    156      1.0     0       1        0   \n",
      "2     37        130          0     98      0.0     1       0        0   \n",
      "3     48        138          0    108      1.5     0       1        1   \n",
      "4     54        150          0    122      0.0     1       0        0   \n",
      "..   ...        ...        ...    ...      ...   ...     ...      ...   \n",
      "607   53        144          1    128      1.5     1       0        1   \n",
      "608   62        158          0    138      0.0     1       0        1   \n",
      "609   46        134          0    126      0.0     1       0        1   \n",
      "610   54        127          1    154      0.0     0       1        1   \n",
      "611   62        135          0    137      0.2     1       0        0   \n",
      "\n",
      "     CPT_ATA  CPT_NAP  CPT_TA  ECG_LVH  ECG_Normal  ECG_ST  EA_N  EA_Y  \\\n",
      "0          1        0       0        0           1       0     1     0   \n",
      "1          0        1       0        0           1       0     1     0   \n",
      "2          1        0       0        0           0       1     1     0   \n",
      "3          0        0       0        0           1       0     0     1   \n",
      "4          0        1       0        0           1       0     1     0   \n",
      "..       ...      ...     ...      ...         ...     ...   ...   ...   \n",
      "607        0        0       0        0           0       1     0     1   \n",
      "608        0        0       0        0           0       1     0     1   \n",
      "609        0        0       0        0           1       0     1     0   \n",
      "610        0        0       0        0           0       1     1     0   \n",
      "611        0        0       1        0           0       1     1     0   \n",
      "\n",
      "     ST_Down  ST_Flat  ST_Up  \n",
      "0          0        0      1  \n",
      "1          0        1      0  \n",
      "2          0        0      1  \n",
      "3          0        1      0  \n",
      "4          0        0      1  \n",
      "..       ...      ...    ...  \n",
      "607        0        1      0  \n",
      "608        0        1      0  \n",
      "609        0        1      0  \n",
      "610        0        1      0  \n",
      "611        0        0      1  \n",
      "\n",
      "[612 rows x 19 columns]\n"
     ]
    }
   ],
   "source": [
    "print (X)"
   ]
  },
  {
   "cell_type": "code",
   "execution_count": null,
   "id": "905da215",
   "metadata": {},
   "outputs": [],
   "source": [
    "# Now let's split our data into train and test sets\n",
    "X_train, X_test, Y_train, Y_test = train_test_split(X, y, test_size=0.33, random_state=42)"
   ]
  },
  {
   "cell_type": "code",
   "execution_count": null,
   "id": "0ce9ae0b",
   "metadata": {},
   "outputs": [],
   "source": []
  }
 ],
 "metadata": {
  "kernelspec": {
   "display_name": "Python 3 (ipykernel)",
   "language": "python",
   "name": "python3"
  },
  "language_info": {
   "codemirror_mode": {
    "name": "ipython",
    "version": 3
   },
   "file_extension": ".py",
   "mimetype": "text/x-python",
   "name": "python",
   "nbconvert_exporter": "python",
   "pygments_lexer": "ipython3",
   "version": "3.9.2"
  }
 },
 "nbformat": 4,
 "nbformat_minor": 5
}
