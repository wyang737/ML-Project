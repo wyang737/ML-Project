{
 "cells": [
  {
   "cell_type": "code",
   "execution_count": 37,
   "id": "48c512b6",
   "metadata": {},
   "outputs": [],
   "source": [
    "import numpy as np\n",
    "import pandas as pd\n",
    "import matplotlib.pyplot as plt\n",
    "from sklearn import preprocessing\n",
    "from sklearn.model_selection import train_test_split\n",
    "from sklearn.neural_network import MLPClassifier\n",
    "from sklearn import linear_model\n",
    "from sklearn.preprocessing import PolynomialFeatures\n",
    "%matplotlib inline "
   ]
  },
  {
   "cell_type": "code",
   "execution_count": 38,
   "id": "5b8f4047",
   "metadata": {},
   "outputs": [
    {
     "data": {
      "text/plain": [
       "Index(['Age', 'Sex', 'ChestPainType', 'RestingBP', 'Cholesterol', 'FastingBS',\n",
       "       'RestingECG', 'MaxHR', 'ExerciseAngina', 'Oldpeak', 'ST_Slope',\n",
       "       'HeartDisease'],\n",
       "      dtype='object')"
      ]
     },
     "execution_count": 38,
     "metadata": {},
     "output_type": "execute_result"
    }
   ],
   "source": [
    "# import the data:\n",
    "df = pd.read_csv('heart.csv')\n",
    "df.columns"
   ]
  },
  {
   "cell_type": "code",
   "execution_count": 39,
   "id": "3c4646f7",
   "metadata": {},
   "outputs": [
    {
     "name": "stdout",
     "output_type": "stream",
     "text": [
      "     ChestPainType_ASY  ChestPainType_ATA  ChestPainType_NAP  ChestPainType_TA\n",
      "0                    0                  1                  0                 0\n",
      "1                    0                  0                  1                 0\n",
      "2                    0                  1                  0                 0\n",
      "3                    1                  0                  0                 0\n",
      "4                    0                  0                  1                 0\n",
      "..                 ...                ...                ...               ...\n",
      "913                  0                  0                  0                 1\n",
      "914                  1                  0                  0                 0\n",
      "915                  1                  0                  0                 0\n",
      "916                  0                  1                  0                 0\n",
      "917                  0                  0                  1                 0\n",
      "\n",
      "[918 rows x 4 columns]\n"
     ]
    }
   ],
   "source": [
    "# doing one hot encoding for categorical features\n",
    "ohe_sex = pd.get_dummies(df.Sex, prefix='Sex')\n",
    "ohe_chestpain = pd.get_dummies(df.ChestPainType, prefix='ChestPainType')\n",
    "ohe_restingecg = pd.get_dummies(df.RestingECG, prefix='RestingECG')\n",
    "ohe_exerciseangina = pd.get_dummies(df.ExerciseAngina, prefix='ExerciseAngina')\n",
    "ohe_stslope = pd.get_dummies(df.ST_Slope, prefix='ST_Slope')\n",
    "print (ohe_chestpain)"
   ]
  },
  {
   "cell_type": "code",
   "execution_count": 40,
   "id": "2d95b43d",
   "metadata": {},
   "outputs": [
    {
     "name": "stderr",
     "output_type": "stream",
     "text": [
      "<ipython-input-40-7735da6dc742>:5: SettingWithCopyWarning: \n",
      "A value is trying to be set on a copy of a slice from a DataFrame.\n",
      "Try using .loc[row_indexer,col_indexer] = value instead\n",
      "\n",
      "See the caveats in the documentation: https://pandas.pydata.org/pandas-docs/stable/user_guide/indexing.html#returning-a-view-versus-a-copy\n",
      "  X['Male'] = ohe_sex['Sex_M']\n",
      "<ipython-input-40-7735da6dc742>:6: SettingWithCopyWarning: \n",
      "A value is trying to be set on a copy of a slice from a DataFrame.\n",
      "Try using .loc[row_indexer,col_indexer] = value instead\n",
      "\n",
      "See the caveats in the documentation: https://pandas.pydata.org/pandas-docs/stable/user_guide/indexing.html#returning-a-view-versus-a-copy\n",
      "  X['Female'] = ohe_sex['Sex_F']\n",
      "<ipython-input-40-7735da6dc742>:8: SettingWithCopyWarning: \n",
      "A value is trying to be set on a copy of a slice from a DataFrame.\n",
      "Try using .loc[row_indexer,col_indexer] = value instead\n",
      "\n",
      "See the caveats in the documentation: https://pandas.pydata.org/pandas-docs/stable/user_guide/indexing.html#returning-a-view-versus-a-copy\n",
      "  X['CPT_ASY'] = ohe_chestpain['ChestPainType_ASY']\n",
      "<ipython-input-40-7735da6dc742>:9: SettingWithCopyWarning: \n",
      "A value is trying to be set on a copy of a slice from a DataFrame.\n",
      "Try using .loc[row_indexer,col_indexer] = value instead\n",
      "\n",
      "See the caveats in the documentation: https://pandas.pydata.org/pandas-docs/stable/user_guide/indexing.html#returning-a-view-versus-a-copy\n",
      "  X['CPT_ATA'] = ohe_chestpain['ChestPainType_ATA']\n",
      "<ipython-input-40-7735da6dc742>:10: SettingWithCopyWarning: \n",
      "A value is trying to be set on a copy of a slice from a DataFrame.\n",
      "Try using .loc[row_indexer,col_indexer] = value instead\n",
      "\n",
      "See the caveats in the documentation: https://pandas.pydata.org/pandas-docs/stable/user_guide/indexing.html#returning-a-view-versus-a-copy\n",
      "  X['CPT_NAP'] = ohe_chestpain['ChestPainType_NAP']\n",
      "<ipython-input-40-7735da6dc742>:11: SettingWithCopyWarning: \n",
      "A value is trying to be set on a copy of a slice from a DataFrame.\n",
      "Try using .loc[row_indexer,col_indexer] = value instead\n",
      "\n",
      "See the caveats in the documentation: https://pandas.pydata.org/pandas-docs/stable/user_guide/indexing.html#returning-a-view-versus-a-copy\n",
      "  X['CPT_TA'] = ohe_chestpain['ChestPainType_TA']\n"
     ]
    }
   ],
   "source": [
    "# creating our variables to store the data\n",
    "y = df['HeartDisease']\n",
    "X = df[['Age', 'RestingBP','FastingBS','MaxHR','Oldpeak']]\n",
    "# adding the encoded features\n",
    "X['Male'] = ohe_sex['Sex_M']\n",
    "X['Female'] = ohe_sex['Sex_F']\n",
    "\n",
    "X['CPT_ASY'] = ohe_chestpain['ChestPainType_ASY']\n",
    "X['CPT_ATA'] = ohe_chestpain['ChestPainType_ATA']\n",
    "X['CPT_NAP'] = ohe_chestpain['ChestPainType_NAP']\n",
    "X['CPT_TA'] = ohe_chestpain['ChestPainType_TA']\n",
    "\n",
    "X['ECG_LVH'] = ohe_restingecg['RestingECG_LVH']\n",
    "X['ECG_Normal'] = ohe_restingecg['RestingECG_Normal']\n",
    "X['ECG_ST'] = ohe_restingecg['RestingECG_ST']\n",
    "\n",
    "X['EA_N'] = ohe_exerciseangina['ExerciseAngina_N']\n",
    "X['EA_Y'] = ohe_exerciseangina['ExerciseAngina_Y']\n",
    "\n",
    "X['ST_Down'] = ohe_stslope['ST_Slope_Down']\n",
    "X['ST_Flat'] = ohe_stslope['ST_Slope_Flat']\n",
    "X['ST_Up'] = ohe_stslope['ST_Slope_Up']\n",
    "\n"
   ]
  },
  {
   "cell_type": "code",
   "execution_count": 41,
   "id": "9d0b9581",
   "metadata": {},
   "outputs": [
    {
     "name": "stdout",
     "output_type": "stream",
     "text": [
      "[[-1.4331398   0.41090889 -0.55134134 ... -0.27144836 -1.00218103\n",
      "   1.15067399]\n",
      " [-0.47848359  1.49175234 -0.55134134 ... -0.27144836  0.99782372\n",
      "  -0.86905588]\n",
      " [-1.75135854 -0.12951283 -0.55134134 ... -0.27144836 -1.00218103\n",
      "   1.15067399]\n",
      " ...\n",
      " [ 0.37009972 -0.12951283 -0.55134134 ... -0.27144836  0.99782372\n",
      "  -0.86905588]\n",
      " [ 0.37009972 -0.12951283 -0.55134134 ... -0.27144836  0.99782372\n",
      "  -0.86905588]\n",
      " [-1.64528563  0.30282455 -0.55134134 ... -0.27144836 -1.00218103\n",
      "   1.15067399]]\n"
     ]
    }
   ],
   "source": [
    "scaler = preprocessing.StandardScaler().fit(X)\n",
    "X = scaler.transform(X)\n",
    "\n",
    "print (X)"
   ]
  },
  {
   "cell_type": "code",
   "execution_count": 42,
   "id": "905da215",
   "metadata": {},
   "outputs": [],
   "source": [
    "# Now let's split our data into train and test sets\n",
    "X_train, X_test, Y_train, Y_test = train_test_split(X, y, test_size=0.33, random_state=42)"
   ]
  },
  {
   "cell_type": "code",
   "execution_count": 43,
   "id": "63e321db",
   "metadata": {},
   "outputs": [],
   "source": [
    "acc_train_logreg = [] \n",
    "acc_test_logreg = []\n",
    "c_logreg = []"
   ]
  },
  {
   "cell_type": "code",
   "execution_count": 44,
   "id": "0ce9ae0b",
   "metadata": {},
   "outputs": [],
   "source": [
    "def logreg_model(c , X_train, Y_train, X_test, Y_test):\n",
    "    logreg = linear_model.LogisticRegression(penalty = 'l1', C = c, solver = 'saga', max_iter = 10000)\n",
    "    logreg.fit(X_train,Y_train)\n",
    "    Yhat_train = logreg.predict(X_train)\n",
    "    \n",
    "    acc_train = logreg.score(X_train,Y_train)\n",
    "    acc_train_logreg.append(acc_train)\n",
    "    print(\"Accuracy on training data = %f\" % acc_train)\n",
    "    \n",
    "    Yhat_test = logreg.predict(X_test)\n",
    "    \n",
    "    acc_test = logreg.score(X_test,Y_test)\n",
    "    acc_test_logreg.append(acc_test)\n",
    "    print(\"Accuracy on test data = %f\" % acc_test)\n",
    "    \n",
    "    c_logreg.append(c)"
   ]
  },
  {
   "cell_type": "code",
   "execution_count": 45,
   "id": "2b9c1849",
   "metadata": {},
   "outputs": [
    {
     "name": "stdout",
     "output_type": "stream",
     "text": [
      "Accuracy on training data = 0.533333\n",
      "Accuracy on test data = 0.594059\n",
      "Accuracy on training data = 0.533333\n",
      "Accuracy on test data = 0.594059\n",
      "Accuracy on training data = 0.821138\n",
      "Accuracy on test data = 0.798680\n",
      "Accuracy on training data = 0.856911\n",
      "Accuracy on test data = 0.851485\n",
      "Accuracy on training data = 0.860163\n",
      "Accuracy on test data = 0.854785\n",
      "Accuracy on training data = 0.863415\n",
      "Accuracy on test data = 0.854785\n"
     ]
    }
   ],
   "source": [
    "cVals = [0.0001, 0.001, 0.01, 0.1, 1, 10]\n",
    "for c in cVals:\n",
    "    logreg_model(c, X_train, Y_train, X_test, Y_test)"
   ]
  },
  {
   "cell_type": "code",
   "execution_count": 46,
   "id": "77389964",
   "metadata": {},
   "outputs": [
    {
     "data": {
      "text/plain": [
       "<matplotlib.legend.Legend at 0x226664a5c70>"
      ]
     },
     "execution_count": 46,
     "metadata": {},
     "output_type": "execute_result"
    },
    {
     "data": {
      "image/png": "[encoded data removed]",
      "text/plain": [
       "<Figure size 432x288 with 1 Axes>"
      ]
     },
     "metadata": {
      "needs_background": "light"
     },
     "output_type": "display_data"
    }
   ],
   "source": [
    "plt.plot(c_logreg,acc_test_logreg)\n",
    "plt.plot(c_logreg,acc_train_logreg)\n",
    "plt.legend(['Training Accuracy', 'Test Accuracy'], loc='upper right')"
   ]
  },
  {
   "cell_type": "code",
   "execution_count": 47,
   "id": "18ffe14e",
   "metadata": {},
   "outputs": [],
   "source": [
    "acc_train_logreg2 = []\n",
    "acc_test_logreg2 = []\n",
    "c_logreg2 = []\n"
   ]
  },
  {
   "cell_type": "code",
   "execution_count": 48,
   "id": "37af874a",
   "metadata": {},
   "outputs": [],
   "source": [
    "def logreg2_model(c , X_train, Y_train, X_test, Y_test):\n",
    "    logreg2 = linear_model.LogisticRegression(C = c, solver = 'saga', max_iter = 10000)\n",
    "    \n",
    "    \n",
    "    logreg2.fit(X_train,Y_train)\n",
    "    \n",
    "    Yhat_train = logreg2.predict(X_train)\n",
    "    \n",
    "    acc_train = logreg2.score(X_train,Y_train)\n",
    "    acc_train_logreg2.append(acc_train)\n",
    "    print(\"Accuracy on training data = %f\" % acc_train)\n",
    "    \n",
    "    Yhat_test = logreg2.predict(X_test)\n",
    "    \n",
    "    acc_test = logreg2.score(X_test,Y_test)\n",
    "    acc_test_logreg2.append(acc_test)\n",
    "    print(\"Accuracy on test data = %f\" % acc_test)\n",
    "    \n",
    "    c_logreg2.append(c)\n",
    "    "
   ]
  },
  {
   "cell_type": "code",
   "execution_count": 49,
   "id": "2b1ec08c",
   "metadata": {},
   "outputs": [
    {
     "name": "stdout",
     "output_type": "stream",
     "text": [
      "Accuracy on training data = 0.629268\n",
      "Accuracy on test data = 0.669967\n",
      "Accuracy on training data = 0.850407\n",
      "Accuracy on test data = 0.874587\n",
      "Accuracy on training data = 0.860163\n",
      "Accuracy on test data = 0.864686\n",
      "Accuracy on training data = 0.865041\n",
      "Accuracy on test data = 0.861386\n",
      "Accuracy on training data = 0.865041\n",
      "Accuracy on test data = 0.854785\n",
      "Accuracy on training data = 0.863415\n",
      "Accuracy on test data = 0.854785\n"
     ]
    }
   ],
   "source": [
    "for c in cVals:\n",
    "    logreg2_model(c, X_train, Y_train, X_test, Y_test)\n",
    "    "
   ]
  },
  {
   "cell_type": "code",
   "execution_count": 50,
   "id": "8da3a4d9",
   "metadata": {},
   "outputs": [
    {
     "data": {
      "text/plain": [
       "<matplotlib.legend.Legend at 0x22666516250>"
      ]
     },
     "execution_count": 50,
     "metadata": {},
     "output_type": "execute_result"
    },
    {
     "data": {
      "image/png": "[encoded data removed]",
      "text/plain": [
       "<Figure size 432x288 with 1 Axes>"
      ]
     },
     "metadata": {
      "needs_background": "light"
     },
     "output_type": "display_data"
    }
   ],
   "source": [
    "plt.plot(c_logreg2,acc_test_logreg2)\n",
    "plt.plot(c_logreg2,acc_train_logreg2)\n",
    "plt.legend(['Training Accuracy', 'Test Accuracy'], loc='upper right')"
   ]
  },
  {
   "cell_type": "code",
   "execution_count": 51,
   "id": "8c6b0ee0",
   "metadata": {},
   "outputs": [],
   "source": [
    "poly = PolynomialFeatures(2)\n",
    "X_transformed_train = poly.fit_transform(X_train)\n",
    "X_transformed_test = poly.fit_transform(X_test)"
   ]
  },
  {
   "cell_type": "code",
   "execution_count": 52,
   "id": "53c9ba72",
   "metadata": {},
   "outputs": [],
   "source": [
    "acc_train_logreg = []\n",
    "acc_test_logreg = []\n",
    "c_logreg = []\n"
   ]
  },
  {
   "cell_type": "code",
   "execution_count": 53,
   "id": "f814815d",
   "metadata": {},
   "outputs": [
    {
     "name": "stdout",
     "output_type": "stream",
     "text": [
      "Accuracy on training data = 0.533333\n",
      "Accuracy on test data = 0.594059\n",
      "Accuracy on training data = 0.533333\n",
      "Accuracy on test data = 0.594059\n",
      "Accuracy on training data = 0.821138\n",
      "Accuracy on test data = 0.798680\n",
      "Accuracy on training data = 0.878049\n",
      "Accuracy on test data = 0.864686\n",
      "Accuracy on training data = 0.902439\n",
      "Accuracy on test data = 0.858086\n",
      "Accuracy on training data = 0.902439\n",
      "Accuracy on test data = 0.858086\n"
     ]
    },
    {
     "data": {
      "text/plain": [
       "[<matplotlib.lines.Line2D at 0x226664fdbb0>]"
      ]
     },
     "execution_count": 53,
     "metadata": {},
     "output_type": "execute_result"
    },
    {
     "data": {
      "image/png": "[encoded data removed]",
      "text/plain": [
       "<Figure size 432x288 with 1 Axes>"
      ]
     },
     "metadata": {
      "needs_background": "light"
     },
     "output_type": "display_data"
    }
   ],
   "source": [
    "for c in cVals:\n",
    "    logreg_model(c, X_transformed_train, Y_train, X_transformed_test, Y_test)\n",
    "    \n",
    "plt.plot(c_logreg,acc_test_logreg)\n",
    "plt.plot(c_logreg,acc_train_logreg)"
   ]
  },
  {
   "cell_type": "code",
   "execution_count": 54,
   "id": "cdac0ebf",
   "metadata": {},
   "outputs": [
    {
     "name": "stdout",
     "output_type": "stream",
     "text": [
      "Accuracy on training data = 0.757724\n",
      "Accuracy on test data = 0.808581\n",
      "Accuracy on training data = 0.873171\n",
      "Accuracy on test data = 0.877888\n",
      "Accuracy on training data = 0.891057\n",
      "Accuracy on test data = 0.881188\n",
      "Accuracy on training data = 0.895935\n",
      "Accuracy on test data = 0.867987\n",
      "Accuracy on training data = 0.900813\n",
      "Accuracy on test data = 0.861386\n",
      "Accuracy on training data = 0.899187\n",
      "Accuracy on test data = 0.858086\n"
     ]
    },
    {
     "data": {
      "text/plain": [
       "[<matplotlib.lines.Line2D at 0x226665c1a60>]"
      ]
     },
     "execution_count": 54,
     "metadata": {},
     "output_type": "execute_result"
    },
    {
     "data": {
      "image/png": "[encoded data removed]",
      "text/plain": [
       "<Figure size 432x288 with 1 Axes>"
      ]
     },
     "metadata": {
      "needs_background": "light"
     },
     "output_type": "display_data"
    }
   ],
   "source": [
    "acc_train_logreg2 = []\n",
    "acc_test_logreg2 = []\n",
    "c_logreg2 = []\n",
    "for c in cVals:\n",
    "    logreg2_model(c, X_transformed_train, Y_train, X_transformed_test, Y_test)\n",
    "plt.plot(c_logreg2,acc_test_logreg)\n",
    "plt.plot(c_logreg2,acc_train_logreg)"
   ]
  },
  {
   "cell_type": "code",
   "execution_count": null,
   "id": "5245d17e",
   "metadata": {},
   "outputs": [],
   "source": []
  }
 ],
 "metadata": {
  "kernelspec": {
   "display_name": "Python 3",
   "language": "python",
   "name": "python3"
  },
  "language_info": {
   "codemirror_mode": {
    "name": "ipython",
    "version": 3
   },
   "file_extension": ".py",
   "mimetype": "text/x-python",
   "name": "python",
   "nbconvert_exporter": "python",
   "pygments_lexer": "ipython3",
   "version": "3.8.8"
  }
 },
 "nbformat": 4,
 "nbformat_minor": 5
}
